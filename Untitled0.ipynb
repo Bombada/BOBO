{
  "nbformat": 4,
  "nbformat_minor": 0,
  "metadata": {
    "colab": {
      "name": "Untitled0.ipynb",
      "provenance": [],
      "collapsed_sections": [],
      "toc_visible": true,
      "mount_file_id": "1dGJ_gAIB_vmI0jWLdBuSikqYDAyKVgJ9",
      "authorship_tag": "ABX9TyPmn1gQOpYYDo5T+1+XBjr2",
      "include_colab_link": true
    },
    "kernelspec": {
      "name": "python3",
      "display_name": "Python 3"
    }
  },
  "cells": [
    {
      "cell_type": "markdown",
      "metadata": {
        "id": "view-in-github",
        "colab_type": "text"
      },
      "source": [
        "<a href=\"https://colab.research.google.com/github/Bombada/BOBO/blob/master/Untitled0.ipynb\" target=\"_parent\"><img src=\"https://colab.research.google.com/assets/colab-badge.svg\" alt=\"Open In Colab\"/></a>"
      ]
    },
    {
      "cell_type": "code",
      "metadata": {
        "id": "VgbzvnePtyDb",
        "colab_type": "code",
        "colab": {
          "base_uri": "https://localhost:8080/",
          "height": 34
        },
        "outputId": "a898bda1-50b8-4fea-9d53-be20b5252b77"
      },
      "source": [
        "#list 연습\n",
        "a = \"w\"\n",
        "b = \"s\"\n",
        "s = {\"ms\":1,\"w\":2, a:3, b:4}\n",
        "t = [\"s\",\"2'\"]\n",
        "del s[\"ms\"]\n",
        "\n",
        "s[\"tt\"] = 2\n",
        "print(s)"
      ],
      "execution_count": null,
      "outputs": [
        {
          "output_type": "stream",
          "text": [
            "{'w': 3, 's': 4, 'tt': 2}\n"
          ],
          "name": "stdout"
        }
      ]
    },
    {
      "cell_type": "markdown",
      "metadata": {
        "id": "ZHCbTcwqyY2X",
        "colab_type": "text"
      },
      "source": [
        "# 새 섹션"
      ]
    },
    {
      "cell_type": "code",
      "metadata": {
        "id": "TGKc1QUBk67t",
        "colab_type": "code",
        "colab": {
          "base_uri": "https://localhost:8080/",
          "height": 52
        },
        "outputId": "0fc355e6-a1d9-4d0d-e387-d1019e1513a4"
      },
      "source": [
        "moto = ['a','b','c']\n",
        "moto[0] = 's'\n",
        "moto[1:3] = ['x','b']\n",
        "print(moto)\n",
        "\n",
        "\n",
        "te = ('1','2','3')\n",
        "dic = { te:'s'}\n",
        "print(dic)"
      ],
      "execution_count": null,
      "outputs": [
        {
          "output_type": "stream",
          "text": [
            "['s', 'x', 'b']\n",
            "{('1', '2', '3'): 's'}\n"
          ],
          "name": "stdout"
        }
      ]
    },
    {
      "cell_type": "code",
      "metadata": {
        "id": "gdF6ecSp5mLn",
        "colab_type": "code",
        "colab": {
          "base_uri": "https://localhost:8080/",
          "height": 35
        },
        "outputId": "6492bb13-731d-4f1c-9350-bc1534131d3d"
      },
      "source": [
        "name = 'wowooo'\n",
        "\n",
        "name.replace('o','1')"
      ],
      "execution_count": null,
      "outputs": [
        {
          "output_type": "execute_result",
          "data": {
            "application/vnd.google.colaboratory.intrinsic+json": {
              "type": "string"
            },
            "text/plain": [
              "'w1w111'"
            ]
          },
          "metadata": {
            "tags": []
          },
          "execution_count": 95
        }
      ]
    },
    {
      "cell_type": "code",
      "metadata": {
        "id": "r6oIlBmdzRrZ",
        "colab_type": "code",
        "colab": {
          "base_uri": "https://localhost:8080/",
          "height": 70
        },
        "outputId": "08d3451e-62f7-4802-ed54-c95d5ab4bfb2"
      },
      "source": [
        "soso = ['so','boring','isn it']\n",
        "soso.append('wo')\n",
        "print(soso)\n",
        "ss = soso.pop(0)\n",
        "print(ss)\n",
        "\n",
        "\n",
        "so = ['s','b','s']\n",
        "so.remove('s')\n",
        "print(so)"
      ],
      "execution_count": 104,
      "outputs": [
        {
          "output_type": "stream",
          "text": [
            "['so', 'boring', 'isn it', 'wo']\n",
            "so\n",
            "['b', 's']\n"
          ],
          "name": "stdout"
        }
      ]
    },
    {
      "cell_type": "code",
      "metadata": {
        "id": "eCTigca92TIK",
        "colab_type": "code",
        "colab": {
          "base_uri": "https://localhost:8080/",
          "height": 52
        },
        "outputId": "120e0334-11b2-403a-9124-4f80adc4d793"
      },
      "source": [
        "cars =['z','a','b','c']\n",
        "#cars.sort()\n",
        "t = reversed(cars)\n",
        "print(sorted(cars))\n",
        "print(t)"
      ],
      "execution_count": 108,
      "outputs": [
        {
          "output_type": "stream",
          "text": [
            "['a', 'b', 'c', 'z']\n",
            "<list_reverseiterator object at 0x7f4ba937e668>\n"
          ],
          "name": "stdout"
        }
      ]
    },
    {
      "cell_type": "code",
      "metadata": {
        "id": "IX-xWFle6wgP",
        "colab_type": "code",
        "colab": {
          "base_uri": "https://localhost:8080/",
          "height": 87
        },
        "outputId": "88073efd-d0a2-4784-fcc3-219c84967d47"
      },
      "source": [
        "test = ['s','b,','c','s','t','s']\n",
        "print(type(test))\n",
        "print(test.count('s'))\n",
        "\n",
        "for i in range(1, 11):\n",
        "    s = i\n",
        "\n",
        "print(s)\n",
        "\n",
        "del test[0]\n",
        "test.remove('c')\n",
        "print(test)"
      ],
      "execution_count": 118,
      "outputs": [
        {
          "output_type": "stream",
          "text": [
            "<class 'list'>\n",
            "3\n",
            "10\n",
            "['b,', 's', 't', 's']\n"
          ],
          "name": "stdout"
        }
      ]
    },
    {
      "cell_type": "code",
      "metadata": {
        "id": "Lwj3IEmNMmdQ",
        "colab_type": "code",
        "colab": {
          "base_uri": "https://localhost:8080/",
          "height": 52
        },
        "outputId": "c1d81418-4a27-4fbb-c3ff-2ffc827a49f7"
      },
      "source": [
        "x= ['a','b','c']\n",
        "y = x.copy()\n",
        "y[1] = 'z'\n",
        "print(x)\n",
        "print(y)"
      ],
      "execution_count": 123,
      "outputs": [
        {
          "output_type": "stream",
          "text": [
            "['a', 'b', 'c']\n",
            "['a', 'z', 'c']\n"
          ],
          "name": "stdout"
        }
      ]
    },
    {
      "cell_type": "code",
      "metadata": {
        "id": "q2yZ5zF8NnJb",
        "colab_type": "code",
        "colab": {
          "base_uri": "https://localhost:8080/",
          "height": 122
        },
        "outputId": "820957e8-e631-4f7d-e98a-5f7f0f604551"
      },
      "source": [
        "a= [1,2,3]\n",
        "\n",
        "b = a\n",
        "c = a[:]\n",
        "d = list(a)\n",
        "\n",
        "print(a is b)\n",
        "print(a is c)\n",
        "print(a is d)\n",
        "print(a == b)\n",
        "print(a == c)\n",
        "print(a == d)"
      ],
      "execution_count": 124,
      "outputs": [
        {
          "output_type": "stream",
          "text": [
            "True\n",
            "False\n",
            "False\n",
            "True\n",
            "True\n",
            "True\n"
          ],
          "name": "stdout"
        }
      ]
    },
    {
      "cell_type": "code",
      "metadata": {
        "id": "uxWj9GqESds6",
        "colab_type": "code",
        "colab": {
          "base_uri": "https://localhost:8080/",
          "height": 122
        },
        "outputId": "f3f2e56d-a85d-4821-f87a-fb8666d585d8"
      },
      "source": [
        "face = ['Facebook',0.0, 'USD', 2974676, 3.5]\n",
        "insta = ['Instagram', 0.0, 'USD', 2161558, 4.5]\n",
        "clash = ['Clash of Clans', 0.0, 'USD', 2130805, 4.0]\n",
        "\n",
        "t = [face, insta, clash]\n",
        "\n",
        "app_data_list = []\n",
        "app_data_list.append(face)\n",
        "app_data_list.append(insta)\n",
        "app_data_list.append(clash)\n",
        "\n",
        "print(app_data_list)\n",
        "print(t)\n",
        "sum = 0\n",
        "for i in range(3):\n",
        "  sum += t[i][-1]\n",
        "\n",
        "print(face[:4])\n",
        "print(face[-3:])\n",
        "print((insta[2:4]))\n",
        "print(clash[-3:-1])"
      ],
      "execution_count": 141,
      "outputs": [
        {
          "output_type": "stream",
          "text": [
            "[['Facebook', 0.0, 'USD', 2974676, 3.5], ['Instagram', 0.0, 'USD', 2161558, 4.5], ['Clash of Clans', 0.0, 'USD', 2130805, 4.0]]\n",
            "[['Facebook', 0.0, 'USD', 2974676, 3.5], ['Instagram', 0.0, 'USD', 2161558, 4.5], ['Clash of Clans', 0.0, 'USD', 2130805, 4.0]]\n",
            "['Facebook', 0.0, 'USD', 2974676]\n",
            "['USD', 2974676, 3.5]\n",
            "['USD', 2161558]\n",
            "['USD', 2130805]\n"
          ],
          "name": "stdout"
        }
      ]
    },
    {
      "cell_type": "markdown",
      "metadata": {
        "id": "tlqfLRoft1dL",
        "colab_type": "text"
      },
      "source": [
        ""
      ]
    }
  ]
}