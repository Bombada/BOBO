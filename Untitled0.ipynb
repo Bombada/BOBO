{
  "nbformat": 4,
  "nbformat_minor": 0,
  "metadata": {
    "colab": {
      "name": "Untitled0.ipynb",
      "provenance": [],
      "collapsed_sections": [],
      "authorship_tag": "ABX9TyPgNybJ9kuTO9KQaCp6sqCO",
      "include_colab_link": true
    },
    "kernelspec": {
      "name": "python3",
      "display_name": "Python 3"
    }
  },
  "cells": [
    {
      "cell_type": "markdown",
      "metadata": {
        "id": "view-in-github",
        "colab_type": "text"
      },
      "source": [
        "<a href=\"https://colab.research.google.com/github/Bombada/BOBO/blob/master/Untitled0.ipynb\" target=\"_parent\"><img src=\"https://colab.research.google.com/assets/colab-badge.svg\" alt=\"Open In Colab\"/></a>"
      ]
    },
    {
      "cell_type": "code",
      "metadata": {
        "id": "VgbzvnePtyDb",
        "colab_type": "code",
        "colab": {
          "base_uri": "https://localhost:8080/",
          "height": 34
        },
        "outputId": "a898bda1-50b8-4fea-9d53-be20b5252b77"
      },
      "source": [
        "#list 연습\n",
        "a = \"w\"\n",
        "b = \"s\"\n",
        "s = {\"ms\":1,\"w\":2, a:3, b:4}\n",
        "t = [\"s\",\"2'\"]\n",
        "del s[\"ms\"]\n",
        "\n",
        "s[\"tt\"] = 2\n",
        "print(s)"
      ],
      "execution_count": 89,
      "outputs": [
        {
          "output_type": "stream",
          "text": [
            "{'w': 3, 's': 4, 'tt': 2}\n"
          ],
          "name": "stdout"
        }
      ]
    },
    {
      "cell_type": "code",
      "metadata": {
        "id": "TGKc1QUBk67t",
        "colab_type": "code",
        "colab": {
          "base_uri": "https://localhost:8080/",
          "height": 52
        },
        "outputId": "0fc355e6-a1d9-4d0d-e387-d1019e1513a4"
      },
      "source": [
        "moto = ['a','b','c']\n",
        "moto[0] = 's'\n",
        "moto[1:3] = ['x','b']\n",
        "print(moto)\n",
        "\n",
        "\n",
        "te = ('1','2','3')\n",
        "dic = { te:'s'}\n",
        "print(dic)"
      ],
      "execution_count": 91,
      "outputs": [
        {
          "output_type": "stream",
          "text": [
            "['s', 'x', 'b']\n",
            "{('1', '2', '3'): 's'}\n"
          ],
          "name": "stdout"
        }
      ]
    },
    {
      "cell_type": "code",
      "metadata": {
        "id": "gdF6ecSp5mLn",
        "colab_type": "code",
        "colab": {
          "base_uri": "https://localhost:8080/",
          "height": 35
        },
        "outputId": "6492bb13-731d-4f1c-9350-bc1534131d3d"
      },
      "source": [
        "name = 'wowooo'\n",
        "\n",
        "name.replace('o','1')"
      ],
      "execution_count": 95,
      "outputs": [
        {
          "output_type": "execute_result",
          "data": {
            "application/vnd.google.colaboratory.intrinsic+json": {
              "type": "string"
            },
            "text/plain": [
              "'w1w111'"
            ]
          },
          "metadata": {
            "tags": []
          },
          "execution_count": 95
        }
      ]
    },
    {
      "cell_type": "markdown",
      "metadata": {
        "id": "tlqfLRoft1dL",
        "colab_type": "text"
      },
      "source": [
        ""
      ]
    }
  ]
}